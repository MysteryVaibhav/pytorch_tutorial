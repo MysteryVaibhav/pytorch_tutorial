{
 "cells": [
  {
   "cell_type": "markdown",
   "metadata": {},
   "source": [
    "# Numpy Tutorial\n",
    "\n",
    "numpy is the core python package for CPU computations on arrays. It is the package for managing arrays that is used by other packages such as pytorch, tensorflow or scipy.\n",
    "\n",
    "see https://docs.scipy.org/doc/numpy-1.15.0/user/quickstart.html for comprehensive tutorial."
   ]
  },
  {
   "cell_type": "code",
   "execution_count": 2,
   "metadata": {},
   "outputs": [],
   "source": [
    "import numpy as np          # Standard practice to name numpy as np"
   ]
  },
  {
   "cell_type": "markdown",
   "metadata": {},
   "source": [
    "## Creating Numpy Arrays\n",
    "Create arrays from an n-d list using np.array"
   ]
  },
  {
   "cell_type": "code",
   "execution_count": 3,
   "metadata": {},
   "outputs": [
    {
     "name": "stdout",
     "output_type": "stream",
     "text": [
      "[1 2 3 4 5 6]\n"
     ]
    }
   ],
   "source": [
    "x = np.array([1, 2, 3, 4, 5, 6])\n",
    "print(x)"
   ]
  },
  {
   "cell_type": "code",
   "execution_count": 4,
   "metadata": {},
   "outputs": [
    {
     "name": "stdout",
     "output_type": "stream",
     "text": [
      "[[1 2 3]\n",
      " [4 5 6]]\n"
     ]
    }
   ],
   "source": [
    "x = np.array([[1,2,3], [4,5,6]])\n",
    "print(x)"
   ]
  },
  {
   "cell_type": "markdown",
   "metadata": {},
   "source": [
    "Generate random data using functions in np.random. It is best practice to seed numpy for consistent results."
   ]
  },
  {
   "cell_type": "code",
   "execution_count": 5,
   "metadata": {},
   "outputs": [
    {
     "name": "stdout",
     "output_type": "stream",
     "text": [
      "[ 0.5488135   0.71518937  0.60276338  0.54488318  0.4236548   0.64589411\n",
      "  0.43758721  0.891773    0.96366276  0.38344152]\n",
      "[2 2 0 1 1 1 1 0 1 0]\n"
     ]
    }
   ],
   "source": [
    "np.random.seed(0)\n",
    "print(np.random.random((10,))) # random array of size 10 with uniform random values (0-1)\n",
    "print(np.random.randint(0,3,(10,))) # random integers [0,1,2]"
   ]
  },
  {
   "cell_type": "markdown",
   "metadata": {},
   "source": [
    "Create special arrays using numpy functions"
   ]
  },
  {
   "cell_type": "code",
   "execution_count": 6,
   "metadata": {},
   "outputs": [
    {
     "name": "stdout",
     "output_type": "stream",
     "text": [
      "[[ 1.  0.  0.  0.]\n",
      " [ 0.  1.  0.  0.]\n",
      " [ 0.  0.  1.  0.]\n",
      " [ 0.  0.  0.  1.]]\n"
     ]
    }
   ],
   "source": [
    "print(np.eye(4))  # Identity matrix"
   ]
  },
  {
   "cell_type": "code",
   "execution_count": 7,
   "metadata": {},
   "outputs": [
    {
     "name": "stdout",
     "output_type": "stream",
     "text": [
      "[[ 0.  0.  0.  0.]\n",
      " [ 0.  0.  0.  0.]]\n"
     ]
    }
   ],
   "source": [
    "print(np.zeros((2,4)))  # n-d zeros matrix"
   ]
  },
  {
   "cell_type": "code",
   "execution_count": 8,
   "metadata": {},
   "outputs": [
    {
     "name": "stdout",
     "output_type": "stream",
     "text": [
      "[[ 1.  1.  1.  1.]\n",
      " [ 1.  1.  1.  1.]]\n"
     ]
    }
   ],
   "source": [
    "print(np.ones((2,4)))  # n-d ones matrix"
   ]
  },
  {
   "cell_type": "code",
   "execution_count": 9,
   "metadata": {},
   "outputs": [
    {
     "name": "stdout",
     "output_type": "stream",
     "text": [
      "[0 1 2 3 4 5 6 7 8]\n"
     ]
    }
   ],
   "source": [
    "print(np.arange(9))  # 1-d matrix of a range"
   ]
  },
  {
   "cell_type": "markdown",
   "metadata": {},
   "source": [
    "All arrays have properties dtype and shape. You will probably use np.int32 or np.float32 for most situations."
   ]
  },
  {
   "cell_type": "code",
   "execution_count": 10,
   "metadata": {},
   "outputs": [
    {
     "name": "stdout",
     "output_type": "stream",
     "text": [
      "(2, 4)\n",
      "int32\n"
     ]
    }
   ],
   "source": [
    "x = np.zeros(shape=(2,4), dtype=np.int32)\n",
    "print(x.shape)\n",
    "print(x.dtype)"
   ]
  },
  {
   "cell_type": "markdown",
   "metadata": {},
   "source": [
    "## Indexing Arrays\n",
    "Numpy arrays may be indexed by a single number, a slice, or an array of integers"
   ]
  },
  {
   "cell_type": "code",
   "execution_count": 13,
   "metadata": {},
   "outputs": [
    {
     "name": "stdout",
     "output_type": "stream",
     "text": [
      "[ 0  1  4  9 16 25 36 49 64 81]\n"
     ]
    }
   ],
   "source": [
    "# Create a matrix\n",
    "x = np.arange(10) ** 2\n",
    "print(x)"
   ]
  },
  {
   "cell_type": "code",
   "execution_count": 14,
   "metadata": {},
   "outputs": [
    {
     "name": "stdout",
     "output_type": "stream",
     "text": [
      "9\n"
     ]
    }
   ],
   "source": [
    "# Index a single value\n",
    "print(x[3])"
   ]
  },
  {
   "cell_type": "code",
   "execution_count": 17,
   "metadata": {},
   "outputs": [
    {
     "name": "stdout",
     "output_type": "stream",
     "text": [
      "[ 1  4  9 16]\n",
      "[0 1 4 9]\n",
      "[25 36 49 64 81]\n",
      "[81 64 49 36 25 16  9  4  1  0]\n",
      "[64 49 36 25 16  9  4]\n",
      "[ 0  4 16 36 64]\n"
     ]
    }
   ],
   "source": [
    "# Index using slices\n",
    "print(x[1:5])  # range\n",
    "print(x[:4])  # implicit start\n",
    "print(x[5:]) # implicit end\n",
    "print(x[::-1]) # all reversed\n",
    "print(x[8:1:-1]) # reversed slice\n",
    "print(x[::2]) # every other"
   ]
  },
  {
   "cell_type": "code",
   "execution_count": 18,
   "metadata": {},
   "outputs": [
    {
     "name": "stdout",
     "output_type": "stream",
     "text": [
      "[3 0 3 5 0]\n",
      "[ 9  0  9 25  0]\n"
     ]
    }
   ],
   "source": [
    "# Index using an array\n",
    "i = np.random.randint(0, 10, (5,)) # random ints [0-9]\n",
    "print(i)\n",
    "print(x[i])  # index by array"
   ]
  },
  {
   "cell_type": "markdown",
   "metadata": {},
   "source": [
    "N-d arrays may be indexed by combinations of the above options."
   ]
  },
  {
   "cell_type": "code",
   "execution_count": 19,
   "metadata": {},
   "outputs": [
    {
     "name": "stdout",
     "output_type": "stream",
     "text": [
      "[[ 0.97861834  0.79915856  0.46147936  0.78052918  0.11827443]\n",
      " [ 0.63992102  0.14335329  0.94466892  0.52184832  0.41466194]]\n",
      "(2, 5)\n",
      "[[ 0.52184832  0.41466194  0.94466892]\n",
      " [ 0.78052918  0.11827443  0.46147936]]\n",
      "(2, 3)\n"
     ]
    }
   ],
   "source": [
    "x=np.random.random((2,5))\n",
    "y=x[::-1, [3,4,2]] # reverse first dimension and take second dimension at 3, 4 and 2\n",
    "print(x)\n",
    "print(x.shape)\n",
    "print(y)\n",
    "print(y.shape)"
   ]
  },
  {
   "cell_type": "markdown",
   "metadata": {},
   "source": [
    "Same indexing syntax can be used for getting and setting values"
   ]
  },
  {
   "cell_type": "code",
   "execution_count": 20,
   "metadata": {},
   "outputs": [
    {
     "name": "stdout",
     "output_type": "stream",
     "text": [
      "[[ 0.  1.]\n",
      " [ 0.  0.]\n",
      " [ 0.  0.]\n",
      " [ 2.  2.]]\n"
     ]
    }
   ],
   "source": [
    "# set values using indexing syntax\n",
    "x = np.zeros((4,2))\n",
    "x[0,1] = 1\n",
    "x[3,:] = 2\n",
    "print(x)"
   ]
  },
  {
   "cell_type": "code",
   "execution_count": 21,
   "metadata": {},
   "outputs": [
    {
     "name": "stdout",
     "output_type": "stream",
     "text": [
      "[[ 0.  0.  0.  0.  0.]\n",
      " [ 0.  1.  2.  3.  4.]\n",
      " [ 0.  0.  0.  0.  0.]]\n"
     ]
    }
   ],
   "source": [
    "# when setting multiple values, shapes must be the same (or broadcastable, see below)\n",
    "x = np.zeros((3,5))\n",
    "x[1,:] = np.arange(5)\n",
    "print(x)"
   ]
  },
  {
   "cell_type": "markdown",
   "metadata": {},
   "source": [
    "## Conditional Indexing\n",
    "There are several ways to search an array or index an array using conditions"
   ]
  },
  {
   "cell_type": "code",
   "execution_count": 22,
   "metadata": {},
   "outputs": [
    {
     "name": "stdout",
     "output_type": "stream",
     "text": [
      "[ 0.69646919  0.28613933  0.22685145  0.55131477  0.71946897  0.42310646\n",
      "  0.9807642   0.68482974  0.4809319   0.39211752]\n",
      "[ True False False  True  True False  True  True False False]\n",
      "[ 0.69646919  0.55131477  0.71946897  0.9807642   0.68482974]\n"
     ]
    }
   ],
   "source": [
    "# Simple syntax\n",
    "np.random.seed(123)\n",
    "x=np.random.random((10,))\n",
    "print(x)\n",
    "print(x>0.5)\n",
    "print(x[x>0.5])"
   ]
  },
  {
   "cell_type": "markdown",
   "metadata": {},
   "source": [
    "There are other indexing options available as well like np.diag(), np.tril_indices(), which might be useful in certain scenarios."
   ]
  },
  {
   "cell_type": "markdown",
   "metadata": {},
   "source": [
    "## Reshaping\n",
    "Reshaping is often required when dealing with matrices. It is often required for making the tensors compatible with a torch module."
   ]
  },
  {
   "cell_type": "code",
   "execution_count": 23,
   "metadata": {},
   "outputs": [
    {
     "name": "stdout",
     "output_type": "stream",
     "text": [
      "[ 0.34317802  0.72904971  0.43857224  0.0596779   0.39804426  0.73799541]\n",
      "[[ 0.34317802  0.72904971]\n",
      " [ 0.43857224  0.0596779 ]\n",
      " [ 0.39804426  0.73799541]]\n",
      "[[ 0.34317802  0.72904971  0.43857224]\n",
      " [ 0.0596779   0.39804426  0.73799541]]\n"
     ]
    }
   ],
   "source": [
    "# Arrays are reshaped keeping row-major order\n",
    "x=np.random.random((6,))\n",
    "print(x)\n",
    "print(np.reshape(x, (3,2)))  # total size must be unchanged\n",
    "print(np.reshape(x, (2,-1)))  # determine last axis based on total size and first axis"
   ]
  },
  {
   "cell_type": "code",
   "execution_count": 24,
   "metadata": {},
   "outputs": [
    {
     "name": "stdout",
     "output_type": "stream",
     "text": [
      "[[ 0.18249173  0.17545176  0.53155137]\n",
      " [ 0.53182759  0.63440096  0.84943179]]\n",
      "[[ 0.18249173  0.53182759]\n",
      " [ 0.17545176  0.63440096]\n",
      " [ 0.53155137  0.84943179]]\n",
      "[[ 0.18249173  0.53182759]\n",
      " [ 0.17545176  0.63440096]\n",
      " [ 0.53155137  0.84943179]]\n"
     ]
    }
   ],
   "source": [
    "# Arrays can be transposed easily\n",
    "x=np.random.random((2,3))\n",
    "print(x)\n",
    "print(x.T) # simple transpose\n",
    "print(np.transpose(x, (1,0))) # syntax for multiple dimensions"
   ]
  },
  {
   "cell_type": "markdown",
   "metadata": {},
   "source": [
    "## Basic Math Operations\n",
    "Basic math operators (+, -, etc.) are overridden with array-based counterparts. Numpy also provides a variety of basic math and linear algebra functions."
   ]
  },
  {
   "cell_type": "code",
   "execution_count": 25,
   "metadata": {},
   "outputs": [
    {
     "name": "stdout",
     "output_type": "stream",
     "text": [
      "[[ 0.72445532  0.61102351  0.72244338  0.32295891  0.36178866]\n",
      " [ 0.22826323  0.29371405  0.63097612  0.09210494  0.43370117]\n",
      " [ 0.43086276  0.4936851   0.42583029  0.31226122  0.42635131]]\n",
      "[[ 0.89338916  0.94416002]\n",
      " [ 0.50183668  0.62395295]\n",
      " [ 0.1156184   0.31728548]\n",
      " [ 0.41482621  0.86630916]\n",
      " [ 0.25045537  0.48303426]]\n",
      "[[ 0.11127628  0.09385316  0.11096725  0.04960646  0.05557071]\n",
      " [ 0.03506121  0.04511445  0.09691788  0.01414731  0.06661647]\n",
      " [ 0.06618049  0.07582999  0.0654075   0.0479633   0.06548753]]\n",
      "0.434027998836\n",
      "[[ 0.52483552  0.37334973  0.52192444  0.10430246  0.13089103]\n",
      " [ 0.0521041   0.08626794  0.39813087  0.00848332  0.18809671]\n",
      " [ 0.18564272  0.24372498  0.18133144  0.09750707  0.18177544]]\n",
      "[[ 0.85114941  0.78167993  0.84996669  0.56829474  0.6014887 ]\n",
      " [ 0.47776901  0.54195392  0.79434006  0.30348796  0.65855992]\n",
      " [ 0.65640137  0.70262728  0.65255673  0.55880338  0.65295582]]\n",
      "[[ 1.26196602  1.74901105]\n",
      " [ 0.57110715  0.88826421]\n",
      " [ 0.91822734  1.32640648]]\n"
     ]
    }
   ],
   "source": [
    "x = np.random.random((3,5))\n",
    "y = np.random.random((5,2))\n",
    "print(x)\n",
    "print(y)\n",
    "print(x / np.sum(x))\n",
    "print(np.mean(x))\n",
    "print(np.square(x))\n",
    "print(np.sqrt(x))\n",
    "print(np.dot(x, y))"
   ]
  },
  {
   "cell_type": "markdown",
   "metadata": {},
   "source": [
    "#### When using PyTorch, we will be dealing with tensors which are conceptually similar to numpy arrays. So, all the operations and many more are applicable to tensors as well. For most of operations, the syntax for both numpy array and tensors are almost same."
   ]
  },
  {
   "cell_type": "code",
   "execution_count": 29,
   "metadata": {},
   "outputs": [
    {
     "name": "stdout",
     "output_type": "stream",
     "text": [
      "tensor([[0., 0., 0.],\n",
      "        [0., 0., 0.]])\n"
     ]
    }
   ],
   "source": [
    "import torch\n",
    "print(torch.zeros((2, 3)))"
   ]
  },
  {
   "cell_type": "code",
   "execution_count": 30,
   "metadata": {},
   "outputs": [
    {
     "name": "stdout",
     "output_type": "stream",
     "text": [
      "[[ 0.  0.  0.]\n",
      " [ 0.  0.  0.]]\n"
     ]
    }
   ],
   "source": [
    "print(np.zeros((2, 3)))"
   ]
  },
  {
   "cell_type": "markdown",
   "metadata": {},
   "source": [
    "For some operations, the syntax might change a little bit, but the idea remains the same. For example,"
   ]
  },
  {
   "cell_type": "code",
   "execution_count": 35,
   "metadata": {},
   "outputs": [
    {
     "name": "stdout",
     "output_type": "stream",
     "text": [
      "[ 0.08319499  0.76368284  0.24366637  0.19422296  0.57245696  0.09571252\n",
      "  0.88532683  0.62724897  0.72341636]\n",
      "[[ 0.08319499  0.76368284  0.24366637]\n",
      " [ 0.19422296  0.57245696  0.09571252]\n",
      " [ 0.88532683  0.62724897  0.72341636]]\n"
     ]
    }
   ],
   "source": [
    "x=np.random.random((9,))\n",
    "print(x)\n",
    "print(x.reshape((3, 3)))"
   ]
  },
  {
   "cell_type": "code",
   "execution_count": 36,
   "metadata": {},
   "outputs": [
    {
     "name": "stdout",
     "output_type": "stream",
     "text": [
      "tensor([ 0.1901,  1.4221, -1.8460, -0.2221, -0.4631,  0.9286,  0.2544, -0.4203,\n",
      "         0.5020])\n",
      "tensor([[ 0.1901,  1.4221, -1.8460],\n",
      "        [-0.2221, -0.4631,  0.9286],\n",
      "        [ 0.2544, -0.4203,  0.5020]])\n"
     ]
    }
   ],
   "source": [
    "x=torch.randn((9,))\n",
    "print(x)\n",
    "print(x.view((3, 3)))"
   ]
  }
 ],
 "metadata": {
  "kernelspec": {
   "display_name": "Python 3",
   "language": "python",
   "name": "python3"
  },
  "language_info": {
   "codemirror_mode": {
    "name": "ipython",
    "version": 3
   },
   "file_extension": ".py",
   "mimetype": "text/x-python",
   "name": "python",
   "nbconvert_exporter": "python",
   "pygments_lexer": "ipython3",
   "version": "3.6.1"
  }
 },
 "nbformat": 4,
 "nbformat_minor": 2
}
